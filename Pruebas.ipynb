{
 "cells": [
  {
   "cell_type": "code",
   "execution_count": 32,
   "metadata": {},
   "outputs": [],
   "source": [
    "import numpy as np\n",
    "import seaborn as sns\n",
    "import matplotlib.pyplot as plt\n",
    "import pandas as pd\n",
    "import re\n"
   ]
  },
  {
   "cell_type": "code",
   "execution_count": 46,
   "metadata": {},
   "outputs": [],
   "source": [
    "sharks = pd.read_csv('/home/julian/Cursos/Ironhack/Proyecto1/shark-data-cleaning/attacks.csv', encoding=\"ISO-8859-1\")"
   ]
  },
  {
   "cell_type": "code",
   "execution_count": 47,
   "metadata": {},
   "outputs": [],
   "source": [
    "sdf3 = pd.DataFrame(sharks)"
   ]
  },
  {
   "cell_type": "code",
   "execution_count": 228,
   "metadata": {},
   "outputs": [],
   "source": [
    "\"\"\"\n",
    "letalidadp = pd.DataFrame(sdf3[sdf3['Fatal (Y/N)'] == 'Y'])\n",
    "letalidadp['Country'].value_counts()\n",
    "\n",
    "sdf3.dropna(inplace=True)\n",
    "\n",
    "def filtracion_especies(x):\n",
    "    m = re.findall('\\w+. shark', x)\n",
    "    if m:\n",
    "        return (m[0].lower())\n",
    "\n",
    "sdf3['Especie'] = sdf3['Species '].apply(filtracion_especies)\n",
    "\n",
    "keep_columns(['Especie', 'Country'], sdf3)\n",
    "\n",
    "sdf3.dropna(inplace=True)\n",
    "\"\"\""
   ]
  },
  {
   "cell_type": "markdown",
   "metadata": {},
   "source": [
    "#### Letalidad por pais\n",
    "#### Paises-especies\n",
    "#### Como vimos anteriormente, la columna 'Sepecies' es la que mas datos nulos posee. Comenzaremos limpiando esa columna\n",
    "#### Nos deshacemos de los valores 'None' y la columna 'Species'"
   ]
  },
  {
   "cell_type": "code",
   "execution_count": 48,
   "metadata": {},
   "outputs": [],
   "source": [
    "def keep_columns(x, y):\n",
    "    relevant = x\n",
    "    for i in y.columns:\n",
    "        if i not in relevant:\n",
    "            y.drop(columns=[i], inplace=True)"
   ]
  },
  {
   "cell_type": "code",
   "execution_count": 49,
   "metadata": {},
   "outputs": [],
   "source": [
    "keep_columns(['Activity', 'Fatal (Y/N)'], sdf3)"
   ]
  },
  {
   "cell_type": "code",
   "execution_count": 50,
   "metadata": {},
   "outputs": [
    {
     "data": {
      "text/html": [
       "<div>\n",
       "<style scoped>\n",
       "    .dataframe tbody tr th:only-of-type {\n",
       "        vertical-align: middle;\n",
       "    }\n",
       "\n",
       "    .dataframe tbody tr th {\n",
       "        vertical-align: top;\n",
       "    }\n",
       "\n",
       "    .dataframe thead th {\n",
       "        text-align: right;\n",
       "    }\n",
       "</style>\n",
       "<table border=\"1\" class=\"dataframe\">\n",
       "  <thead>\n",
       "    <tr style=\"text-align: right;\">\n",
       "      <th></th>\n",
       "      <th>Activity</th>\n",
       "      <th>Fatal (Y/N)</th>\n",
       "    </tr>\n",
       "  </thead>\n",
       "  <tbody>\n",
       "    <tr>\n",
       "      <th>0</th>\n",
       "      <td>Paddling</td>\n",
       "      <td>N</td>\n",
       "    </tr>\n",
       "    <tr>\n",
       "      <th>1</th>\n",
       "      <td>Standing</td>\n",
       "      <td>N</td>\n",
       "    </tr>\n",
       "    <tr>\n",
       "      <th>2</th>\n",
       "      <td>Surfing</td>\n",
       "      <td>N</td>\n",
       "    </tr>\n",
       "    <tr>\n",
       "      <th>3</th>\n",
       "      <td>Surfing</td>\n",
       "      <td>N</td>\n",
       "    </tr>\n",
       "    <tr>\n",
       "      <th>4</th>\n",
       "      <td>Free diving</td>\n",
       "      <td>N</td>\n",
       "    </tr>\n",
       "    <tr>\n",
       "      <th>...</th>\n",
       "      <td>...</td>\n",
       "      <td>...</td>\n",
       "    </tr>\n",
       "    <tr>\n",
       "      <th>6296</th>\n",
       "      <td>Swimming</td>\n",
       "      <td>Y</td>\n",
       "    </tr>\n",
       "    <tr>\n",
       "      <th>6297</th>\n",
       "      <td>Diving</td>\n",
       "      <td>Y</td>\n",
       "    </tr>\n",
       "    <tr>\n",
       "      <th>6298</th>\n",
       "      <td>Pearl diving</td>\n",
       "      <td>Y</td>\n",
       "    </tr>\n",
       "    <tr>\n",
       "      <th>6299</th>\n",
       "      <td>Swimming</td>\n",
       "      <td>Y</td>\n",
       "    </tr>\n",
       "    <tr>\n",
       "      <th>6301</th>\n",
       "      <td>Swimming</td>\n",
       "      <td>Y</td>\n",
       "    </tr>\n",
       "  </tbody>\n",
       "</table>\n",
       "<p>5344 rows × 2 columns</p>\n",
       "</div>"
      ],
      "text/plain": [
       "          Activity Fatal (Y/N)\n",
       "0         Paddling           N\n",
       "1         Standing           N\n",
       "2          Surfing           N\n",
       "3          Surfing           N\n",
       "4      Free diving           N\n",
       "...            ...         ...\n",
       "6296      Swimming           Y\n",
       "6297        Diving           Y\n",
       "6298  Pearl diving           Y\n",
       "6299      Swimming           Y\n",
       "6301      Swimming           Y\n",
       "\n",
       "[5344 rows x 2 columns]"
      ]
     },
     "execution_count": 50,
     "metadata": {},
     "output_type": "execute_result"
    }
   ],
   "source": [
    "sdf3.dropna()"
   ]
  },
  {
   "cell_type": "code",
   "execution_count": 54,
   "metadata": {},
   "outputs": [],
   "source": [
    "def filtracion_actividades(x):\n",
    "    m = re.findall('\\w+.ing', str(x))\n",
    "    if m:\n",
    "        return (m[0].lower())"
   ]
  },
  {
   "cell_type": "code",
   "execution_count": 55,
   "metadata": {},
   "outputs": [
    {
     "data": {
      "text/plain": [
       "'bathing'"
      ]
     },
     "execution_count": 55,
     "metadata": {},
     "output_type": "execute_result"
    }
   ],
   "source": [
    "filtracion_actividades('4 men were bathing')"
   ]
  },
  {
   "cell_type": "code",
   "execution_count": 56,
   "metadata": {
    "scrolled": true
   },
   "outputs": [],
   "source": [
    "sdf3['Actividades'] = sdf3['Activity'].apply(filtracion_actividades)"
   ]
  },
  {
   "cell_type": "code",
   "execution_count": 58,
   "metadata": {},
   "outputs": [
    {
     "data": {
      "text/plain": [
       "array(['paddling', 'standing', 'surfing', 'diving', 'swimming', 'fishing',\n",
       "       'walking', 'feeding', 'boarding', 'skiing', 'windsurfing',\n",
       "       'paddleboarding', 'wading', 'cleaning', 'snorkeling',\n",
       "       'spearfishing', None, 'bathing', 'kayaking', 'canoeing',\n",
       "       'skimboarding', 'touching', 'attempting', 'kakaying', 'washing',\n",
       "       'grabbing', 'tagging', 'floating', 'lobstering', 'teasing',\n",
       "       'photographing', 'treading', 'playing', 'sitting', 'rowing',\n",
       "       'bodysurfing', 'filming', 'petting', 'kneeling', 'watching',\n",
       "       'kitesurfing', 'sailing', 'kiteboarding', 'casting', 'wrangling',\n",
       "       'dragging', 'bodyboarding', 'crayfishing', 'jumping',\n",
       "       'wakeboarding', 'rescuing', 'measuring', 'crawling', 'crabbing',\n",
       "       'sinking', 'removing', 'reviving', 'shrimping', 'lifesaving',\n",
       "       'competing', 'holding', 'crouching', 'scurfing', 'chumming',\n",
       "       'boeing', 'killing', 'collecting', 'hiking', 'conducting', 'lying',\n",
       "       'splashing', 'cruising', 'moving', 'towing', 'riding', 'sleeping',\n",
       "       'freediving', 'stamding', 'preparing', 'finning', 'resting',\n",
       "       'observing', 'skindiving', 'sittting', 'returning', 'dropping',\n",
       "       'ditching', 'meshing', 'racing', 'investigating', 'foundering',\n",
       "       'during', 'paddleskiing', 'sailboarding', 'inspecting', 'morning',\n",
       "       'catching', 'exercising', 'gaffing', 'clinging', 'drawing',\n",
       "       'thrashing', 'being', 'netting', 'seeing', 'leaving', 'clamming',\n",
       "       'picking', 'pulling', 'hunting', 'throwing', 'helping', 'hauling',\n",
       "       'sunbathing', 'spearing', 'dangling', 'searching', 'testing',\n",
       "       'seining', 'abandoning', 'missing', 'escaping', 'gathering',\n",
       "       'climbing', 'attaching', 'checking', 'taking', 'chasing', 'lining',\n",
       "       'setting', 'trailing', 'hanging', 'gigging', 'working', 'wearing',\n",
       "       'dynamiting', 'longling', 'boating', 'flying', 'crossing',\n",
       "       'retrieving', 'landing', 'cutting', 'carrying', 'defecating',\n",
       "       'bending', 'examining', 'involving', 'bringing', 'reading',\n",
       "       'guarding', 'travelling', 'sculling', 'waiting', 'burning',\n",
       "       'scooping', 'awaiting', 'launching', 'feeling', 'shelling',\n",
       "       'dismantling', 'hoisting', 'stuffing', 'pearling', 'expecting',\n",
       "       'shooting', 'harpooning', 'footing', 'angling', 'pursuing',\n",
       "       'fleeing', 'thing', 'drowning', 'oystering', 'yachting',\n",
       "       'restraining', 'traveling', 'murdering', 'salvaging', 'painting',\n",
       "       'coming', 'reaching', 'trying', 'deserting', 'fighting',\n",
       "       'harassing', 'hooking', 'loading', 'ascending', 'lashing'],\n",
       "      dtype=object)"
      ]
     },
     "execution_count": 58,
     "metadata": {},
     "output_type": "execute_result"
    }
   ],
   "source": [
    "sdf3['Actividades'].unique()"
   ]
  },
  {
   "cell_type": "code",
   "execution_count": null,
   "metadata": {},
   "outputs": [],
   "source": []
  }
 ],
 "metadata": {
  "kernelspec": {
   "display_name": "ironcon",
   "language": "python",
   "name": "ironcon"
  },
  "language_info": {
   "codemirror_mode": {
    "name": "ipython",
    "version": 3
   },
   "file_extension": ".py",
   "mimetype": "text/x-python",
   "name": "python",
   "nbconvert_exporter": "python",
   "pygments_lexer": "ipython3",
   "version": "3.8.11"
  }
 },
 "nbformat": 4,
 "nbformat_minor": 4
}
